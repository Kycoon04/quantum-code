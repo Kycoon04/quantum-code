{
 "cells": [
  {
   "cell_type": "code",
   "execution_count": 50,
   "id": "9d74a416-ef9f-4bdf-b236-1dd5d217902f",
   "metadata": {},
   "outputs": [],
   "source": [
    "import pennylane as qml\n",
    "from pennylane import numpy as np"
   ]
  },
  {
   "cell_type": "code",
   "execution_count": 51,
   "id": "7897042e-3d69-4c32-a2fd-0a41b6387fd4",
   "metadata": {},
   "outputs": [],
   "source": [
    "dev = qml.device(name=\"default.qubit\", wires=2)"
   ]
  },
  {
   "cell_type": "code",
   "execution_count": 52,
   "id": "fcb5c781-eff6-4141-81d1-a9f5df7ab273",
   "metadata": {},
   "outputs": [],
   "source": [
    "@qml.qnode(dev)\n",
    "def qfun():\n",
    "    qml.Hadamard(wires=0)\n",
    "    qml.CNOT(wires=[0, 1])\n",
    "    qml.RX(np.pi / 4, wires=1)\n",
    "    qml.RY(np.pi / 3, wires=0)\n",
    "    return qml.probs(wires=[0, 1])"
   ]
  },
  {
   "cell_type": "code",
   "execution_count": null,
   "id": "5c71038c-debc-4a75-b1b5-a3fd9985af8d",
   "metadata": {
    "jupyter": {
     "source_hidden": true
    }
   },
   "outputs": [],
   "source": [
    "print(qml.draw(qfun)())"
   ]
  },
  {
   "cell_type": "code",
   "execution_count": null,
   "id": "12dd977a-4500-4c51-8a48-c80373041a4a",
   "metadata": {},
   "outputs": [],
   "source": [
    "result = qfun()\n",
    "print(\"Resultados del circuito:\", result)"
   ]
  },
  {
   "cell_type": "code",
   "execution_count": null,
   "id": "f750686a-05fe-418a-b75c-3ee932633589",
   "metadata": {},
   "outputs": [],
   "source": []
  },
  {
   "cell_type": "code",
   "execution_count": null,
   "id": "1c63070f-cd21-4268-978a-e25d12df7364",
   "metadata": {},
   "outputs": [],
   "source": []
  },
  {
   "cell_type": "code",
   "execution_count": null,
   "id": "17e57a12-653b-49df-b0b3-515fceaa75b4",
   "metadata": {},
   "outputs": [],
   "source": []
  },
  {
   "cell_type": "code",
   "execution_count": null,
   "id": "e1dc0dc6-c1f1-4045-bf10-74d99f7ce933",
   "metadata": {},
   "outputs": [],
   "source": []
  },
  {
   "cell_type": "code",
   "execution_count": null,
   "id": "5f661c34-a2ed-441f-8228-04cfd79dad53",
   "metadata": {},
   "outputs": [],
   "source": []
  }
 ],
 "metadata": {
  "kernelspec": {
   "display_name": "Python 3 (ipykernel)",
   "language": "python",
   "name": "python3"
  },
  "language_info": {
   "codemirror_mode": {
    "name": "ipython",
    "version": 3
   },
   "file_extension": ".py",
   "mimetype": "text/x-python",
   "name": "python",
   "nbconvert_exporter": "python",
   "pygments_lexer": "ipython3",
   "version": "3.12.7"
  }
 },
 "nbformat": 4,
 "nbformat_minor": 5
}
