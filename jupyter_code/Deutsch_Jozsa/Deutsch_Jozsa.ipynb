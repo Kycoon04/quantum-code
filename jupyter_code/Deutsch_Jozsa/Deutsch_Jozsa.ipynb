{
 "cells": [
  {
   "cell_type": "code",
   "execution_count": 1,
   "id": "70193b58-6be9-4e18-9c98-70ca27aafeba",
   "metadata": {},
   "outputs": [],
   "source": [
    "import pennylane as qml\n",
    "from pennylane import numpy as np"
   ]
  },
  {
   "cell_type": "code",
   "execution_count": 2,
   "id": "9ecbfc88-a5cf-48cf-8af0-92faa126dac5",
   "metadata": {},
   "outputs": [],
   "source": [
    "dev = qml.device(\"default.qubit\", wires=2)"
   ]
  },
  {
   "cell_type": "code",
   "execution_count": 3,
   "id": "3ef4345d-5ee5-4294-946d-4b835e75ba4f",
   "metadata": {},
   "outputs": [],
   "source": [
    "def oracle():\n",
    "    qml.CNOT(wires=[0, 1])"
   ]
  },
  {
   "cell_type": "code",
   "execution_count": 4,
   "id": "4a779983-b3ee-42bc-b6f5-187fc62aceaa",
   "metadata": {},
   "outputs": [],
   "source": [
    "@qml.qnode(dev)\n",
    "def deutsch_jozsa():\n",
    "    qml.Hadamard(wires=0)\n",
    "    qml.PauliX(wires=1)\n",
    "    qml.Hadamard(wires=1)\n",
    "    oracle()\n",
    "    qml.Hadamard(wires=0)\n",
    "    return qml.expval(qml.PauliZ(0))"
   ]
  },
  {
   "cell_type": "code",
   "execution_count": 5,
   "id": "f7312a79-bb9d-4027-8c50-7bd6054062e1",
   "metadata": {},
   "outputs": [],
   "source": [
    "result = deutsch_jozsa()"
   ]
  },
  {
   "cell_type": "code",
   "execution_count": null,
   "id": "40fceb04-6810-4b59-9a2e-90683835ec1c",
   "metadata": {},
   "outputs": [],
   "source": [
    "if np.isclose(result, 1.0):\n",
    "    print(\"La función es constante.\")\n",
    "else:\n",
    "    print(\"La función es equilibrada.\")"
   ]
  }
 ],
 "metadata": {
  "kernelspec": {
   "display_name": "Python 3 (ipykernel)",
   "language": "python",
   "name": "python3"
  },
  "language_info": {
   "codemirror_mode": {
    "name": "ipython",
    "version": 3
   },
   "file_extension": ".py",
   "mimetype": "text/x-python",
   "name": "python",
   "nbconvert_exporter": "python",
   "pygments_lexer": "ipython3",
   "version": "3.12.7"
  }
 },
 "nbformat": 4,
 "nbformat_minor": 5
}
